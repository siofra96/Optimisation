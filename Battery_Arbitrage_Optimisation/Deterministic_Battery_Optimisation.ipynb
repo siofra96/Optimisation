{
 "cells": [
  {
   "cell_type": "code",
   "execution_count": 2,
   "metadata": {},
   "outputs": [],
   "source": [
    "from gurobipy import *\n",
    "import pandas as pd\n",
    "from random import seed\n",
    "from random import gauss\n",
    "seed(100)"
   ]
  },
  {
   "cell_type": "markdown",
   "metadata": {},
   "source": [
    "# Battery Sizing and Prices"
   ]
  },
  {
   "cell_type": "markdown",
   "metadata": {},
   "source": [
    "State the technical parameters of the battery, including size and efficiency. Sample electricity prices from a gaussian distribution, assuming a perfect forecast of prices. These will be the parameters of the optimisation problem."
   ]
  },
  {
   "cell_type": "code",
   "execution_count": 3,
   "metadata": {},
   "outputs": [
    {
     "name": "stdout",
     "output_type": "stream",
     "text": [
      "Restricted license - for non-production use only - expires 2025-11-24\n"
     ]
    }
   ],
   "source": [
    "m=Model('Deterministic_Battery_Scheduling')\n",
    "#add parameters\n",
    "Cinitial=53 #initial charge (MWh)\n",
    "Cmin=0.5 #minimum allowed battery charge level (MWh)\n",
    "Cmax=53 #maximum allowed battery charge level (MWh)\n",
    "Kappa=1.1 #battery discharge efficiency\n",
    "Rho=0.95 #battery charge efficiency\n",
    "Gamma=100 #battery charge-discharge cycle parameter\n",
    "Charge_max=20 #maximum charge rate (MW)\n",
    "Discharge_max=20 #maximum discharge rate (MW)\n",
    "\n",
    "#create dimensions of the problem, 48 time periods chosen as imbalance prices set at HH granularity\n",
    "P='period'\n",
    "Periods=[i for i in range(48)]\n",
    "\n",
    "Price_DA={}\n",
    "Price_Imb={}\n",
    "\n",
    "for i in Periods:\n",
    "    Price_DA[i]=gauss(50, 2)\n",
    "    Price_Imb[i]=gauss(45,25)\n",
    "    \n",
    "\n"
   ]
  },
  {
   "cell_type": "markdown",
   "metadata": {},
   "source": [
    "# Variables"
   ]
  },
  {
   "cell_type": "markdown",
   "metadata": {},
   "source": [
    "Create the variables of the optimisation problem"
   ]
  },
  {
   "cell_type": "code",
   "execution_count": 4,
   "metadata": {},
   "outputs": [],
   "source": [
    "#instantiate variables\n",
    "generation = {}\n",
    "demand = {}\n",
    "dec_DA = {}\n",
    "generation_upward = {}\n",
    "generation_downward = {}\n",
    "dec_supply_Imb = {}\n",
    "dec_demand_Imb = {}\n",
    "demand_downward = {}\n",
    "demand_upward = {}\n",
    "dec_supply_to_demand = {}\n",
    "dec_demand_to_supply = {}\n",
    "special_case_demand_upward = {}\n",
    "special_case_generation_upward = {}\n",
    "ending_charge = {}\n",
    "\n",
    "\n",
    "#create decision variables\n",
    "#units of energy supplied in DA Market (MW)\n",
    "for i in Periods:\n",
    "    generation[i] = m.addVar(lb = 0, ub = Discharge_max, vtype = GRB.CONTINUOUS, name = 'generation_%s'%(i))\n",
    "    \n",
    "    #units of energy consumed in DA Market (MW)\n",
    "    demand[i] = m.addVar(lb = 0, ub = Charge_max, vtype = GRB.CONTINUOUS, name = 'demand_%s'%(i))\n",
    "    \n",
    "    #decision variable at DA market, when equal to 1 energy is supplied, when equal to 0 energy is consumed in that period\n",
    "    dec_DA[i] = m.addVar(vtype=GRB.BINARY, name = 'dec_DA_%s'%(i))\n",
    "    \n",
    "    #when supplying, increase output in Balancing Market\n",
    "    generation_upward[i] = m.addVar(lb = 0, vtype = GRB.CONTINUOUS, name = 'generation_upward_%s'%(i))\n",
    "\n",
    "    #when supplying, decrease output in Balancing Market\n",
    "    generation_downward[i] = m.addVar(lb = 0, vtype = GRB.CONTINUOUS, name = 'generation_downward_%s'%(i))\n",
    "\n",
    "    #when supplying in DA decision variable at Imb market to increase(1) or decrease(0) output \n",
    "    dec_supply_Imb[i] = m.addVar(vtype=GRB.BINARY, name = 'dec_supply_Imb_%s'%(i))\n",
    "\n",
    "    #when consuming, increase consumption in Balancing Market\n",
    "    demand_upward[i] = m.addVar(lb = 0, vtype = GRB.CONTINUOUS, name = 'demand_upward_%s'%(i))\n",
    "\n",
    "    #when consuming, decrease consumption in Balancing Market\n",
    "    demand_downward[i] = m.addVar(lb = 0, vtype = GRB.CONTINUOUS, name = 'demand_downward_%s'%(i))\n",
    "\n",
    "    #when consuming in DA decision variable at Imb market to increase(1) or decrease(0) output \n",
    "    dec_demand_Imb[i] = m.addVar(vtype=GRB.BINARY, name = 'dec_demand_Imb_%s'%(i))\n",
    "    \n",
    "    #special case: when set to supply in DA, switch to consuming in balancing market\n",
    "    special_case_demand_upward[i]=m.addVar(lb=0, vtype=GRB.CONTINUOUS, name='special_case_demand_upward_%s'%(i))\n",
    "    \n",
    "    #when supplying in DA switch to consuming decision variable\n",
    "    dec_supply_to_demand[i]=m.addVar(vtype=GRB.BINARY, name='dec_supply_to_demand_%s'%(i))\n",
    "\n",
    "    #special case: when set to consume in DA, switch to supplying in balancing market\n",
    "    special_case_generation_upward[i]=m.addVar(lb=0, vtype=GRB.CONTINUOUS, name='special_case_generation_upward_%s'%(i))\n",
    "    \n",
    "    #when consuming in DA switch to supply decision variable\n",
    "    dec_demand_to_supply[i]=m.addVar(vtype=GRB.BINARY, name='dec_demand_to_supply_%s'%(i))\n",
    "    \n",
    "    #battery charge at the end of each period\n",
    "    ending_charge[i]=m.addVar(lb=Cmin, ub=Cmax, vtype=GRB.CONTINUOUS, name='initial_charge_%s'%(i))\n",
    "\n",
    "m.update()\n"
   ]
  },
  {
   "cell_type": "markdown",
   "metadata": {},
   "source": [
    "# Constraints and Objective"
   ]
  },
  {
   "cell_type": "markdown",
   "metadata": {},
   "source": [
    "Set the constraints and objective of the optimisation problem"
   ]
  },
  {
   "cell_type": "code",
   "execution_count": 5,
   "metadata": {},
   "outputs": [
    {
     "data": {
      "text/plain": [
       "<gurobi.Constr *Awaiting Model Update*>"
      ]
     },
     "execution_count": 5,
     "metadata": {},
     "output_type": "execute_result"
    }
   ],
   "source": [
    "#set the objective, expected profit maximization\n",
    "obj1 = quicksum(Price_DA[i]*(0.5*generation[i]-0.5*demand[i]) for i in Periods )\n",
    "obj2 = quicksum(Price_Imb[i]*(0.5*generation_upward[i]+0.5*demand_downward[i]+0.5*special_case_generation_upward[i]-0.5*generation_downward[i]-0.5*demand_upward[i]-0.5*special_case_demand_upward[i]) for i in Periods )\n",
    "obj = obj1 + obj2\n",
    "m.setObjective(obj, GRB.MAXIMIZE)\n",
    "\n",
    "#define constraints\n",
    "for i in Periods:\n",
    "    #rate of discharge before balancing introduced must not exceed max discharge \n",
    "    m.addConstr(generation[i]<= (dec_DA[i])*(Discharge_max), 'initial_max_discharge_constr')\n",
    "    \n",
    "    #rate of charge before balancing introduced must not exceed max charge \n",
    "    m.addConstr(demand[i]<= (1-dec_DA[i])*(Charge_max), 'initial_max_charge_constr')\n",
    "    \n",
    "    #rate of discharge in a period must not exceed max discharge rate when set to supply in DA and upward balancing\n",
    "    m.addConstr(generation[i]+generation_upward[i] <= (dec_DA[i])*(dec_supply_Imb[i])*(Discharge_max), 'max_discharge_constr')\n",
    "    \n",
    "    #rate of discharge must not drop below zero when set to supply in DA and downward balancing\n",
    "    m.addConstr((generation_downward[i]-generation[i]) <= 0, 'min_discharge_constr_1')\n",
    "    m.addConstr(generation_downward[i] <= (dec_DA[i])*(1-dec_supply_Imb[i])*(Discharge_max), 'min_discharge_constr_2')\n",
    "    \n",
    "    #rate of charge in a period must not exceed max charge rate when set to consume in DA and upward balancing\n",
    "    m.addConstr(demand[i]+demand_upward[i] <= (1-dec_DA[i])*(dec_demand_Imb[i])*(Charge_max), 'max_charge_constr')\n",
    "                                                          \n",
    "    #rate of discharge must not drop below zero when set to consume in DA and downward balancing\n",
    "    m.addConstr((demand_downward[i]-demand[i]) <= 0, 'min_charge_constr_1')\n",
    "    m.addConstr(demand_downward[i] <= (1-dec_DA[i])*(1-dec_demand_Imb[i])*(Charge_max), 'min_charge_constr_2')\n",
    "                                                          \n",
    "    #special case 1: when supplying in DA switch to consuming decision variable (decision variable can only equal one if generation_downward=generation at time period i)\n",
    "    m.addConstr(dec_supply_to_demand[i] <= (dec_DA[i])*(1-dec_supply_Imb[i]), 'supply_to_consume_dec_constr_1')\n",
    "    m.addConstr(dec_supply_to_demand[i]*generation[i]<=generation_downward[i], 'supply_to_consume_dec_constr_2')\n",
    "    \n",
    "    #special case 1: rate of charge must not exceed max charge rate\n",
    "    m.addConstr(special_case_demand_upward[i] <= (dec_supply_to_demand[i])*(Charge_max), 'special_case_1_max_charge_constr')        \n",
    "                \n",
    "    #special case 2: when consuming in DA switch to supplying decision variable (decision variable can only equal one if demand_downward=demand at time period i)\n",
    "    m.addConstr(dec_demand_to_supply[i] <= (1-dec_DA[i])*(1-dec_demand_Imb[i]), 'consume_to_supply_dec_constr_1')\n",
    "    m.addConstr(dec_demand_to_supply[i]*demand[i] <= demand_downward[i], 'consume_to_supply_dec_constr_2')\n",
    "    \n",
    "    #special case 2: rate of discharge must not exceed max discharge rate\n",
    "    m.addConstr(special_case_generation_upward[i] <= (dec_demand_to_supply[i])*(Discharge_max), 'special_case_2_max_discharge_constr') \n",
    "    \n",
    "    #the inital charge of the battery plus the sum of the discharging/charging done during this period plus previous periods must fall within the operating capacity range of the battery, charge and discharge efficiency are also accounted for\n",
    "    m.addConstr(ending_charge[i] == Cinitial-quicksum(generation[j]+generation_upward[j]-generation_downward[j]+special_case_generation_upward[j] for j in range(i+1))*0.5*Kappa+quicksum(demand[j]+demand_upward[j]-demand_downward[j]+special_case_demand_upward[j] for j in range(i+1))*0.5*Rho, 'initial_charge_constr')\n",
    "    \n",
    "\n",
    "#Gamma is a design parameter limiting the total number of daily discharge cycles\n",
    "m.addConstr(quicksum(generation[i]+generation_upward[i]-generation_downward[i]+special_case_generation_upward[i] for i in Periods) <= Gamma*(Cmax-Cmin))\n"
   ]
  },
  {
   "cell_type": "markdown",
   "metadata": {},
   "source": [
    "# Run Optimisation"
   ]
  },
  {
   "cell_type": "code",
   "execution_count": 6,
   "metadata": {},
   "outputs": [
    {
     "name": "stdout",
     "output_type": "stream",
     "text": [
      "Gurobi Optimizer version 11.0.3 build v11.0.3rc0 (linux64 - \"Ubuntu 22.04.4 LTS\")\n",
      "\n",
      "CPU model: Intel(R) Core(TM) Ultra 5 125H, instruction set [SSE2|AVX|AVX2]\n",
      "Thread count: 18 physical cores, 18 logical processors, using up to 18 threads\n",
      "\n"
     ]
    },
    {
     "ename": "GurobiError",
     "evalue": "Model too large for size-limited license; visit https://gurobi.com/unrestricted for more information",
     "output_type": "error",
     "traceback": [
      "\u001b[0;31m---------------------------------------------------------------------------\u001b[0m",
      "\u001b[0;31mGurobiError\u001b[0m                               Traceback (most recent call last)",
      "Cell \u001b[0;32mIn[6], line 1\u001b[0m\n\u001b[0;32m----> 1\u001b[0m \u001b[43mm\u001b[49m\u001b[38;5;241;43m.\u001b[39;49m\u001b[43moptimize\u001b[49m\u001b[43m(\u001b[49m\u001b[43m)\u001b[49m\n\u001b[1;32m      2\u001b[0m \u001b[38;5;28;01mif\u001b[39;00m m\u001b[38;5;241m.\u001b[39mstatus \u001b[38;5;241m==\u001b[39m GRB\u001b[38;5;241m.\u001b[39mstatus\u001b[38;5;241m.\u001b[39mOPTIMAL:\n\u001b[1;32m      3\u001b[0m     \u001b[38;5;28mprint\u001b[39m(\u001b[38;5;124m'\u001b[39m\u001b[38;5;130;01m\\n\u001b[39;00m\u001b[38;5;124mMaximum objective is :\u001b[39m\u001b[38;5;124m'\u001b[39m,m\u001b[38;5;241m.\u001b[39mobjval)\n",
      "File \u001b[0;32msrc/gurobipy/model.pxi:893\u001b[0m, in \u001b[0;36mgurobipy.Model.optimize\u001b[0;34m()\u001b[0m\n",
      "\u001b[0;31mGurobiError\u001b[0m: Model too large for size-limited license; visit https://gurobi.com/unrestricted for more information"
     ]
    }
   ],
   "source": [
    "m.optimize()\n",
    "if m.status == GRB.status.OPTIMAL:\n",
    "    print('\\nMaximum objective is :',m.objval)"
   ]
  },
  {
   "cell_type": "code",
   "execution_count": null,
   "metadata": {
    "scrolled": true
   },
   "outputs": [],
   "source": [
    "if m.status == GRB.status.OPTIMAL:\n",
    "    print ('\\nOptimal Scheduling :')\n",
    "    for i in Periods:\n",
    "        print('supplying at period'+ str(i) + ': ' + str(generation[i].x))\n",
    "        print('consuming at period'+ str(i) + ': ' + str(demand[i].x))\n",
    "        print('upward supply balancing at period'+ str(i) + ': ' + str(generation_upward[i].x))\n",
    "        print('downward supply balancing at period'+ str(i) + ': ' + str(generation_downward[i].x))\n",
    "        print('special case upward supply balancing at period'+ str(i) + ': ' + str(special_case_generation_upward[i].x))\n",
    "        print('upward demand balancing at period'+ str(i) + ': ' + str(demand_upward[i].x))\n",
    "        print('downward demand balancing at period'+ str(i) + ': ' + str(demand_downward[i].x))\n",
    "        print('special case upward demand balancing at period'+ str(i) + ': ' + str(special_case_demand_upward[i].x))\n",
    "        \n",
    "        "
   ]
  },
  {
   "cell_type": "markdown",
   "metadata": {},
   "source": [
    "# Save the Results"
   ]
  },
  {
   "cell_type": "code",
   "execution_count": null,
   "metadata": {},
   "outputs": [],
   "source": [
    "results=pd.DataFrame()\n",
    "results['supply']=pd.Series(generation[i].x for i in Periods)\n",
    "results['demand']=pd.Series(demand[i].x for i in Periods)\n",
    "results['supply upward balancing']=pd.Series(generation_upward[i].x for i in Periods)\n",
    "results['supply downward balancing']=pd.Series(generation_downward[i].x for i in Periods)\n",
    "results['special case supply upward balancing']=pd.Series(special_case_generation_upward[i].x for i in Periods)\n",
    "results['demand upward balancing']=pd.Series(demand_upward[i].x for i in Periods)\n",
    "results['demand downward balancing']=pd.Series(demand_downward[i].x for i in Periods)\n",
    "results['special case demand upward balancing']=pd.Series(special_case_demand_upward[i].x for i in Periods)\n",
    "results['dec_DA']=pd.Series(dec_DA[i].x for i in Periods)\n",
    "results['dec_supply_Imb']=pd.Series(dec_supply_Imb[i].x for i in Periods)\n",
    "results['dec_demand_Imb']=pd.Series(dec_demand_Imb[i].x for i in Periods)\n",
    "results['dec_supply_to_demand']=pd.Series(dec_supply_to_demand[i].x for i in Periods)\n",
    "results['dec_demand_to_supply']=pd.Series(dec_demand_to_supply[i].x for i in Periods)\n",
    "results['DA Price']=pd.Series(Price_DA[i] for i in Periods)\n",
    "results['Imb Price']=pd.Series(Price_Imb[i] for i in Periods)\n",
    "results['Ending Charge']=pd.Series(ending_charge[i].x for i in Periods)\n"
   ]
  },
  {
   "cell_type": "code",
   "execution_count": null,
   "metadata": {},
   "outputs": [],
   "source": [
    "results.to_excel('Results.xlsx')"
   ]
  }
 ],
 "metadata": {
  "kernelspec": {
   "display_name": "Python 3",
   "language": "python",
   "name": "python3"
  },
  "language_info": {
   "codemirror_mode": {
    "name": "ipython",
    "version": 3
   },
   "file_extension": ".py",
   "mimetype": "text/x-python",
   "name": "python",
   "nbconvert_exporter": "python",
   "pygments_lexer": "ipython3",
   "version": "3.10.12"
  }
 },
 "nbformat": 4,
 "nbformat_minor": 2
}
